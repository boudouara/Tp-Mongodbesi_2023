{
 "cells": [
  {
   "cell_type": "markdown",
   "metadata": {},
   "source": [
    "# Demo 1\n",
    "\n",
    "<table><tr>\n",
    "    <td><img src=\"image/esi-sba.png\" width=\"100\" height=\"100\"></td>\n",
    "    <td><img src=\"image/mongo.png\" width=\"100\" height=\"100\"></td>\n",
    "    </tr></table>"
   ]
  },
  {
   "cell_type": "markdown",
   "metadata": {},
   "source": [
    "### Lancer un conteneur de MONGO\n",
    "   \n",
    "! docker-compose up –d\n"
   ]
  },
  {
   "cell_type": "markdown",
   "metadata": {},
   "source": [
    "#### installer pymongo afin de se connecter au cluster mongodb\n",
    "\n",
    "! pip install pymongo"
   ]
  },
  {
   "cell_type": "code",
   "execution_count": 1,
   "metadata": {},
   "outputs": [],
   "source": [
    "from pymongo import MongoClient"
   ]
  },
  {
   "cell_type": "markdown",
   "metadata": {},
   "source": [
    "### We are then free to add useful methods as needed. These methods are wrappers for core pymongo collection methods including the following:\n",
    "* find()\n",
    "* find_one()\n",
    "* insert_one()\n",
    "* insert_many()\n",
    "* update_one()\n",
    "* update_many()\n",
    "* delete_one()\n",
    "* delete_many()"
   ]
  },
  {
   "cell_type": "markdown",
   "metadata": {},
   "source": [
    "### Créer un Mongo Client afin d'exécuter nos requêtes sur MONGODB Server"
   ]
  },
  {
   "cell_type": "code",
   "execution_count": 2,
   "metadata": {},
   "outputs": [],
   "source": [
    "client = MongoClient('mongodb://localhost:27017/')"
   ]
  },
  {
   "cell_type": "markdown",
   "metadata": {},
   "source": [
    "###  Afficher les différentes  databases"
   ]
  },
  {
   "cell_type": "code",
   "execution_count": 3,
   "metadata": {},
   "outputs": [
    {
     "data": {
      "text/plain": [
       "['admin', 'config', 'db1', 'local']"
      ]
     },
     "execution_count": 3,
     "metadata": {},
     "output_type": "execute_result"
    }
   ],
   "source": [
    "client.list_database_names()"
   ]
  },
  {
   "cell_type": "markdown",
   "metadata": {},
   "source": [
    "### Créer une \"database variable\" pour travailler avec la BDD \"db1\""
   ]
  },
  {
   "cell_type": "code",
   "execution_count": 4,
   "metadata": {},
   "outputs": [],
   "source": [
    "db = client[\"db1\"]"
   ]
  },
  {
   "cell_type": "markdown",
   "metadata": {},
   "source": [
    "### Récupérer les collections de la BDD \"db1\""
   ]
  },
  {
   "cell_type": "code",
   "execution_count": 5,
   "metadata": {},
   "outputs": [
    {
     "data": {
      "text/plain": [
       "['users']"
      ]
     },
     "execution_count": 5,
     "metadata": {},
     "output_type": "execute_result"
    }
   ],
   "source": [
    "db.list_collection_names()"
   ]
  },
  {
   "cell_type": "markdown",
   "metadata": {},
   "source": [
    "###  Insérer un document dans la collection \"users\""
   ]
  },
  {
   "cell_type": "code",
   "execution_count": 6,
   "metadata": {},
   "outputs": [
    {
     "data": {
      "text/plain": [
       "<pymongo.results.InsertOneResult at 0x1152e2ea888>"
      ]
     },
     "execution_count": 6,
     "metadata": {},
     "output_type": "execute_result"
    }
   ],
   "source": [
    "db[\"users\"].insert_one({\n",
    "                  \"name\": \"Ali\", \n",
    "                  \"login\": \"ali89\", \n",
    "                  \"age\": 29,\n",
    "                  \"address\": {\n",
    "                               \"street\": \"12 gambitta\", \n",
    "                               \"city\": \"sba\"\n",
    "                             },\n",
    "                  \"job\" : ['web', 'BDD']\n",
    "                    })"
   ]
  },
  {
   "cell_type": "markdown",
   "metadata": {},
   "source": [
    "###  #Docs"
   ]
  },
  {
   "cell_type": "code",
   "execution_count": 7,
   "metadata": {},
   "outputs": [
    {
     "data": {
      "text/plain": [
       "15"
      ]
     },
     "execution_count": 7,
     "metadata": {},
     "output_type": "execute_result"
    }
   ],
   "source": [
    "db[\"users\"].count_documents({})"
   ]
  },
  {
   "cell_type": "code",
   "execution_count": 8,
   "metadata": {},
   "outputs": [
    {
     "data": {
      "text/plain": [
       "{'_id': ObjectId('633b4d64685a5cb1f0ca3f45'),\n",
       " 'name': 'Ali',\n",
       " 'login': 'ali89',\n",
       " 'age': 31,\n",
       " 'address': {'street': '12 gambitta', 'city': 'sba'},\n",
       " 'job': ['web', 'BDD']}"
      ]
     },
     "execution_count": 8,
     "metadata": {},
     "output_type": "execute_result"
    }
   ],
   "source": [
    "db[\"users\"].find_one()"
   ]
  },
  {
   "cell_type": "markdown",
   "metadata": {},
   "source": [
    "### insertion multiple"
   ]
  },
  {
   "cell_type": "code",
   "execution_count": 9,
   "metadata": {},
   "outputs": [
    {
     "data": {
      "text/plain": [
       "19"
      ]
     },
     "execution_count": 9,
     "metadata": {},
     "output_type": "execute_result"
    }
   ],
   "source": [
    "userlist = [\n",
    "  {\"name\":\"Ahmed\",\"login\": \"Ahmed77f\", \"age\": 28,\"address\":{\"street\":\"10 maconi\",\"city\": \"sba\"},\"job\" : [\"web\", \"PHP\"]},\n",
    "  {\"name\":\"said\",\"login\": \"saidyy\", \"age\": 25,\"address\":{\"city\": \"oran\"},\"job\" : [\"web\", \"JAVA\",\"PHP\"]}, \n",
    "  {\"name\":\"amine\",\"login\": \"amine77\",\"age\": 18},\n",
    "  {\"name\":\"said\",\"login\": \"ss.ki\", \"age\": 23,\"address\":{\"city\": \"sba\"},\"job\" : [\"python\", \"JAVA\",\"PHP\"]}, \n",
    "  \n",
    "]\n",
    "\n",
    "db[\"users\"].insert_many(userlist)\n",
    "\n",
    "db[\"users\"].count_documents({})"
   ]
  },
  {
   "cell_type": "code",
   "execution_count": 10,
   "metadata": {},
   "outputs": [
    {
     "data": {
      "text/plain": [
       "<pymongo.cursor.Cursor at 0x1152e31f048>"
      ]
     },
     "execution_count": 10,
     "metadata": {},
     "output_type": "execute_result"
    }
   ],
   "source": [
    "db[\"users\"].find()"
   ]
  },
  {
   "cell_type": "markdown",
   "metadata": {},
   "source": [
    "### Afficher tous les docs"
   ]
  },
  {
   "cell_type": "code",
   "execution_count": 11,
   "metadata": {},
   "outputs": [
    {
     "name": "stdout",
     "output_type": "stream",
     "text": [
      "{'_id': ObjectId('633b4d64685a5cb1f0ca3f45'), 'name': 'Ali', 'login': 'ali89', 'age': 31, 'address': {'street': '12 gambitta', 'city': 'sba'}, 'job': ['web', 'BDD']} \n",
      "\n",
      "{'_id': ObjectId('633b4d65685a5cb1f0ca3f46'), 'name': 'Ahmed', 'login': 'Ahmed77f', 'age': 18, 'address': {'street': '10 maconi', 'city': 'sba'}, 'job': []} \n",
      "\n",
      "{'_id': ObjectId('633b4d65685a5cb1f0ca3f47'), 'name': 'said', 'login': 'saidyy', 'age': 25, 'address': {'city': 'oran'}, 'job': ['web', 'JAVA', 'PHP']} \n",
      "\n",
      "{'_id': ObjectId('633b4d65685a5cb1f0ca3f48'), 'name': 'amine', 'login': 'amine77'} \n",
      "\n",
      "{'_id': ObjectId('633b4f19685a5cb1f0ca3f4a'), 'name': 'Ali', 'login': 'ali89', 'age': 29, 'address': {'street': '12 gambitta', 'city': 'sba'}, 'job': ['web', 'BDD']} \n",
      "\n",
      "{'_id': ObjectId('633b4f19685a5cb1f0ca3f4b'), 'name': 'Ahmed', 'login': 'Ahmed77f', 'age': 18, 'address': {'street': '10 maconi', 'city': 'sba'}, 'job': []} \n",
      "\n",
      "{'_id': ObjectId('633b4f19685a5cb1f0ca3f4c'), 'name': 'said', 'login': 'saidyy', 'age': 25, 'address': {'city': 'oran'}, 'job': ['web', 'JAVA', 'PHP']} \n",
      "\n",
      "{'_id': ObjectId('633b4f19685a5cb1f0ca3f4d'), 'name': 'amine', 'login': 'amine77'} \n",
      "\n",
      "{'_id': ObjectId('633b5086685a5cb1f0ca3f4f'), 'name': 'Ali', 'login': 'ali89', 'age': 29, 'address': {'street': '12 gambitta', 'city': 'sba'}, 'job': ['web', 'BDD']} \n",
      "\n",
      "{'_id': ObjectId('63429831ebee9cf2afc26a9e'), 'name': 'Ali', 'login': 'ali89', 'age': 29, 'address': {'street': '12 gambitta', 'city': 'sba'}, 'job': ['web', 'BDD']} \n",
      "\n",
      "{'_id': ObjectId('6342984bebee9cf2afc26a9f'), 'name': 'Ahmed', 'login': 'Ahmed77f', 'age': 28, 'address': {'street': '10 maconi', 'city': 'sba'}, 'job': ['web', 'PHP']} \n",
      "\n",
      "{'_id': ObjectId('6342984bebee9cf2afc26aa0'), 'name': 'said', 'login': 'saidyy', 'age': 25, 'address': {'city': 'oran'}, 'job': ['web', 'JAVA', 'PHP']} \n",
      "\n",
      "{'_id': ObjectId('6342984bebee9cf2afc26aa1'), 'name': 'amine', 'login': 'amine77', 'age': 18} \n",
      "\n",
      "{'_id': ObjectId('6342984bebee9cf2afc26aa2'), 'name': 'said', 'login': 'ss.ki', 'age': 23, 'address': {'city': 'sba'}, 'job': ['python', 'JAVA', 'PHP']} \n",
      "\n",
      "{'_id': ObjectId('6342985635b9ef87bbd3cb5f'), 'name': 'Ali', 'login': 'ali89', 'age': 29, 'address': {'street': '12 gambitta', 'city': 'sba'}, 'job': ['web', 'BDD']} \n",
      "\n",
      "{'_id': ObjectId('6342985635b9ef87bbd3cb60'), 'name': 'Ahmed', 'login': 'Ahmed77f', 'age': 28, 'address': {'street': '10 maconi', 'city': 'sba'}, 'job': ['web', 'PHP']} \n",
      "\n",
      "{'_id': ObjectId('6342985635b9ef87bbd3cb61'), 'name': 'said', 'login': 'saidyy', 'age': 25, 'address': {'city': 'oran'}, 'job': ['web', 'JAVA', 'PHP']} \n",
      "\n",
      "{'_id': ObjectId('6342985635b9ef87bbd3cb62'), 'name': 'amine', 'login': 'amine77', 'age': 18} \n",
      "\n",
      "{'_id': ObjectId('6342985635b9ef87bbd3cb63'), 'name': 'said', 'login': 'ss.ki', 'age': 23, 'address': {'city': 'sba'}, 'job': ['python', 'JAVA', 'PHP']} \n",
      "\n"
     ]
    }
   ],
   "source": [
    "# Display all records\n",
    "for user in db[\"users\"].find():\n",
    "  print(user,'\\n') "
   ]
  },
  {
   "cell_type": "markdown",
   "metadata": {},
   "source": [
    "### Update"
   ]
  },
  {
   "cell_type": "code",
   "execution_count": 12,
   "metadata": {},
   "outputs": [
    {
     "data": {
      "text/plain": [
       "<pymongo.results.UpdateResult at 0x1152e30f308>"
      ]
     },
     "execution_count": 12,
     "metadata": {},
     "output_type": "execute_result"
    }
   ],
   "source": [
    "db[\"users\"].update_one( \n",
    "                        {'name': 'Ali'},\n",
    "                        { \"$inc\" : { \"age\" : 1 } } \n",
    "                   )\n"
   ]
  },
  {
   "cell_type": "markdown",
   "metadata": {},
   "source": [
    "### Update multiple"
   ]
  },
  {
   "cell_type": "code",
   "execution_count": 13,
   "metadata": {},
   "outputs": [
    {
     "data": {
      "text/plain": [
       "<pymongo.results.UpdateResult at 0x1152e335748>"
      ]
     },
     "execution_count": 13,
     "metadata": {},
     "output_type": "execute_result"
    }
   ],
   "source": [
    "db[\"users\"].update_many( \n",
    "                        {'age': {'$lte':18}},\n",
    "                        { '$set' : { 'job' : [] } } \n",
    "                   )"
   ]
  },
  {
   "cell_type": "markdown",
   "metadata": {},
   "source": [
    "### .find( filtre , projection )"
   ]
  },
  {
   "cell_type": "code",
   "execution_count": 14,
   "metadata": {},
   "outputs": [
    {
     "name": "stdout",
     "output_type": "stream",
     "text": [
      "{'name': 'Ali', 'age': 32} \n",
      "\n",
      "{'name': 'Ahmed', 'age': 18} \n",
      "\n",
      "{'name': 'said', 'age': 25} \n",
      "\n",
      "{'name': 'amine'} \n",
      "\n",
      "{'name': 'Ali', 'age': 29} \n",
      "\n",
      "{'name': 'Ahmed', 'age': 18} \n",
      "\n",
      "{'name': 'said', 'age': 25} \n",
      "\n",
      "{'name': 'amine'} \n",
      "\n",
      "{'name': 'Ali', 'age': 29} \n",
      "\n",
      "{'name': 'Ali', 'age': 29} \n",
      "\n",
      "{'name': 'Ahmed', 'age': 28} \n",
      "\n",
      "{'name': 'said', 'age': 25} \n",
      "\n",
      "{'name': 'amine', 'age': 18} \n",
      "\n",
      "{'name': 'said', 'age': 23} \n",
      "\n",
      "{'name': 'Ali', 'age': 29} \n",
      "\n",
      "{'name': 'Ahmed', 'age': 28} \n",
      "\n",
      "{'name': 'said', 'age': 25} \n",
      "\n",
      "{'name': 'amine', 'age': 18} \n",
      "\n",
      "{'name': 'said', 'age': 23} \n",
      "\n"
     ]
    }
   ],
   "source": [
    "for user in db[\"users\"].find({}, {\"_id\": 0,\"name\": 1,\"age\": 1}):\n",
    "  print(user,'\\n')\n"
   ]
  },
  {
   "cell_type": "markdown",
   "metadata": {},
   "source": [
    "### Recherche exacte"
   ]
  },
  {
   "cell_type": "code",
   "execution_count": 15,
   "metadata": {},
   "outputs": [
    {
     "name": "stdout",
     "output_type": "stream",
     "text": [
      "{'_id': ObjectId('633b4d64685a5cb1f0ca3f45'), 'name': 'Ali', 'age': 32} \n",
      "\n",
      "{'_id': ObjectId('633b4f19685a5cb1f0ca3f4a'), 'name': 'Ali', 'age': 29} \n",
      "\n",
      "{'_id': ObjectId('633b5086685a5cb1f0ca3f4f'), 'name': 'Ali', 'age': 29} \n",
      "\n",
      "{'_id': ObjectId('63429831ebee9cf2afc26a9e'), 'name': 'Ali', 'age': 29} \n",
      "\n",
      "{'_id': ObjectId('6342985635b9ef87bbd3cb5f'), 'name': 'Ali', 'age': 29} \n",
      "\n"
     ]
    }
   ],
   "source": [
    "for user in db[\"users\"].find( {'login' : \"ali89\"} , {'name' : 1, 'age' : 1}):\n",
    "  print(user,'\\n')"
   ]
  },
  {
   "cell_type": "markdown",
   "metadata": {},
   "source": [
    "### Filtrage dans une imbrication "
   ]
  },
  {
   "cell_type": "code",
   "execution_count": 16,
   "metadata": {},
   "outputs": [
    {
     "name": "stdout",
     "output_type": "stream",
     "text": [
      "{'_id': ObjectId('633b4d64685a5cb1f0ca3f45'), 'name': 'Ali', 'login': 'ali89', 'age': 32, 'address': {'street': '12 gambitta', 'city': 'sba'}, 'job': ['web', 'BDD']} \n",
      "\n",
      "{'_id': ObjectId('633b4d65685a5cb1f0ca3f46'), 'name': 'Ahmed', 'login': 'Ahmed77f', 'age': 18, 'address': {'street': '10 maconi', 'city': 'sba'}, 'job': []} \n",
      "\n",
      "{'_id': ObjectId('633b4f19685a5cb1f0ca3f4a'), 'name': 'Ali', 'login': 'ali89', 'age': 29, 'address': {'street': '12 gambitta', 'city': 'sba'}, 'job': ['web', 'BDD']} \n",
      "\n",
      "{'_id': ObjectId('633b4f19685a5cb1f0ca3f4b'), 'name': 'Ahmed', 'login': 'Ahmed77f', 'age': 18, 'address': {'street': '10 maconi', 'city': 'sba'}, 'job': []} \n",
      "\n",
      "{'_id': ObjectId('633b5086685a5cb1f0ca3f4f'), 'name': 'Ali', 'login': 'ali89', 'age': 29, 'address': {'street': '12 gambitta', 'city': 'sba'}, 'job': ['web', 'BDD']} \n",
      "\n",
      "{'_id': ObjectId('63429831ebee9cf2afc26a9e'), 'name': 'Ali', 'login': 'ali89', 'age': 29, 'address': {'street': '12 gambitta', 'city': 'sba'}, 'job': ['web', 'BDD']} \n",
      "\n",
      "{'_id': ObjectId('6342984bebee9cf2afc26a9f'), 'name': 'Ahmed', 'login': 'Ahmed77f', 'age': 28, 'address': {'street': '10 maconi', 'city': 'sba'}, 'job': ['web', 'PHP']} \n",
      "\n",
      "{'_id': ObjectId('6342984bebee9cf2afc26aa2'), 'name': 'said', 'login': 'ss.ki', 'age': 23, 'address': {'city': 'sba'}, 'job': ['python', 'JAVA', 'PHP']} \n",
      "\n",
      "{'_id': ObjectId('6342985635b9ef87bbd3cb5f'), 'name': 'Ali', 'login': 'ali89', 'age': 29, 'address': {'street': '12 gambitta', 'city': 'sba'}, 'job': ['web', 'BDD']} \n",
      "\n",
      "{'_id': ObjectId('6342985635b9ef87bbd3cb60'), 'name': 'Ahmed', 'login': 'Ahmed77f', 'age': 28, 'address': {'street': '10 maconi', 'city': 'sba'}, 'job': ['web', 'PHP']} \n",
      "\n",
      "{'_id': ObjectId('6342985635b9ef87bbd3cb63'), 'name': 'said', 'login': 'ss.ki', 'age': 23, 'address': {'city': 'sba'}, 'job': ['python', 'JAVA', 'PHP']} \n",
      "\n"
     ]
    }
   ],
   "source": [
    "for user in db[\"users\"].find( { 'address.city' : 'sba'}):\n",
    "  print(user,'\\n')"
   ]
  },
  {
   "cell_type": "markdown",
   "metadata": {},
   "source": [
    "### Filtrage avec opération \n",
    "* \\\\$gt, \\\\$gte, \\\\$lt, \\\\$lte, \\\\$ne, \\\\$in, \\\\$nin, \\\\$or, \\\\$and, \\\\$regex, \\\\$exists, \\\\$type, \\\\$size, …"
   ]
  },
  {
   "cell_type": "code",
   "execution_count": 17,
   "metadata": {},
   "outputs": [
    {
     "name": "stdout",
     "output_type": "stream",
     "text": [
      "{'name': 'Ali', 'age': 32} \n",
      "\n",
      "{'name': 'said', 'age': 25} \n",
      "\n",
      "{'name': 'Ali', 'age': 29} \n",
      "\n",
      "{'name': 'said', 'age': 25} \n",
      "\n",
      "{'name': 'Ali', 'age': 29} \n",
      "\n",
      "{'name': 'Ali', 'age': 29} \n",
      "\n",
      "{'name': 'Ahmed', 'age': 28} \n",
      "\n",
      "{'name': 'said', 'age': 25} \n",
      "\n",
      "{'name': 'said', 'age': 23} \n",
      "\n",
      "{'name': 'Ali', 'age': 29} \n",
      "\n",
      "{'name': 'Ahmed', 'age': 28} \n",
      "\n",
      "{'name': 'said', 'age': 25} \n",
      "\n",
      "{'name': 'said', 'age': 23} \n",
      "\n"
     ]
    }
   ],
   "source": [
    "for user in db[\"users\"].find( { 'age' :{ '$gt' : 20 }},  {\"_id\": 0,\"name\": 1,\"age\": 1} ):\n",
    "  print(user,'\\n')"
   ]
  },
  {
   "cell_type": "code",
   "execution_count": 18,
   "metadata": {},
   "outputs": [
    {
     "name": "stdout",
     "output_type": "stream",
     "text": [
      "{'name': 'Ali', 'login': 'ali89'} \n",
      "\n",
      "{'name': 'Ahmed', 'login': 'Ahmed77f'} \n",
      "\n",
      "{'name': 'amine', 'login': 'amine77'} \n",
      "\n",
      "{'name': 'Ali', 'login': 'ali89'} \n",
      "\n",
      "{'name': 'Ahmed', 'login': 'Ahmed77f'} \n",
      "\n",
      "{'name': 'amine', 'login': 'amine77'} \n",
      "\n",
      "{'name': 'Ali', 'login': 'ali89'} \n",
      "\n",
      "{'name': 'Ali', 'login': 'ali89'} \n",
      "\n",
      "{'name': 'Ahmed', 'login': 'Ahmed77f'} \n",
      "\n",
      "{'name': 'amine', 'login': 'amine77'} \n",
      "\n",
      "{'name': 'Ali', 'login': 'ali89'} \n",
      "\n",
      "{'name': 'Ahmed', 'login': 'Ahmed77f'} \n",
      "\n",
      "{'name': 'amine', 'login': 'amine77'} \n",
      "\n"
     ]
    }
   ],
   "source": [
    "for user in db[\"users\"].find( { 'login' :{ '$regex' : '^a', '$options':'i'}},  {\"_id\": 0,\"name\": 1,\"login\": 1} ):\n",
    "  print(user,'\\n')"
   ]
  },
  {
   "cell_type": "markdown",
   "metadata": {},
   "source": [
    "### Filtrage sur un tableau"
   ]
  },
  {
   "cell_type": "code",
   "execution_count": 19,
   "metadata": {},
   "outputs": [
    {
     "name": "stdout",
     "output_type": "stream",
     "text": [
      "{'_id': ObjectId('633b4d64685a5cb1f0ca3f45'), 'name': 'Ali', 'login': 'ali89', 'age': 32, 'address': {'street': '12 gambitta', 'city': 'sba'}, 'job': ['web', 'BDD']} \n",
      "\n",
      "{'_id': ObjectId('633b4f19685a5cb1f0ca3f4a'), 'name': 'Ali', 'login': 'ali89', 'age': 29, 'address': {'street': '12 gambitta', 'city': 'sba'}, 'job': ['web', 'BDD']} \n",
      "\n",
      "{'_id': ObjectId('633b5086685a5cb1f0ca3f4f'), 'name': 'Ali', 'login': 'ali89', 'age': 29, 'address': {'street': '12 gambitta', 'city': 'sba'}, 'job': ['web', 'BDD']} \n",
      "\n",
      "{'_id': ObjectId('63429831ebee9cf2afc26a9e'), 'name': 'Ali', 'login': 'ali89', 'age': 29, 'address': {'street': '12 gambitta', 'city': 'sba'}, 'job': ['web', 'BDD']} \n",
      "\n",
      "{'_id': ObjectId('6342985635b9ef87bbd3cb5f'), 'name': 'Ali', 'login': 'ali89', 'age': 29, 'address': {'street': '12 gambitta', 'city': 'sba'}, 'job': ['web', 'BDD']} \n",
      "\n"
     ]
    }
   ],
   "source": [
    "for user in db[\"users\"].find( { 'job' : 'BDD'} ): #dans la liste\n",
    "  print(user,'\\n')"
   ]
  },
  {
   "cell_type": "code",
   "execution_count": 20,
   "metadata": {},
   "outputs": [
    {
     "name": "stdout",
     "output_type": "stream",
     "text": [
      "{'_id': ObjectId('633b4d64685a5cb1f0ca3f45'), 'name': 'Ali', 'login': 'ali89', 'age': 32, 'address': {'street': '12 gambitta', 'city': 'sba'}, 'job': ['web', 'BDD']} \n",
      "\n",
      "{'_id': ObjectId('633b4f19685a5cb1f0ca3f4a'), 'name': 'Ali', 'login': 'ali89', 'age': 29, 'address': {'street': '12 gambitta', 'city': 'sba'}, 'job': ['web', 'BDD']} \n",
      "\n",
      "{'_id': ObjectId('633b5086685a5cb1f0ca3f4f'), 'name': 'Ali', 'login': 'ali89', 'age': 29, 'address': {'street': '12 gambitta', 'city': 'sba'}, 'job': ['web', 'BDD']} \n",
      "\n",
      "{'_id': ObjectId('63429831ebee9cf2afc26a9e'), 'name': 'Ali', 'login': 'ali89', 'age': 29, 'address': {'street': '12 gambitta', 'city': 'sba'}, 'job': ['web', 'BDD']} \n",
      "\n",
      "{'_id': ObjectId('6342985635b9ef87bbd3cb5f'), 'name': 'Ali', 'login': 'ali89', 'age': 29, 'address': {'street': '12 gambitta', 'city': 'sba'}, 'job': ['web', 'BDD']} \n",
      "\n"
     ]
    }
   ],
   "source": [
    "for user in db[\"users\"].find( {'job.1' : 'BDD'} ): #2éme place de la liste\n",
    "  print(user,'\\n')"
   ]
  },
  {
   "cell_type": "code",
   "execution_count": 21,
   "metadata": {},
   "outputs": [
    {
     "name": "stdout",
     "output_type": "stream",
     "text": [
      "{'_id': ObjectId('633b4d64685a5cb1f0ca3f45'), 'name': 'Ali', 'login': 'ali89', 'age': 32, 'address': {'street': '12 gambitta', 'city': 'sba'}, 'job': ['web', 'BDD']} \n",
      "\n",
      "{'_id': ObjectId('633b4f19685a5cb1f0ca3f4a'), 'name': 'Ali', 'login': 'ali89', 'age': 29, 'address': {'street': '12 gambitta', 'city': 'sba'}, 'job': ['web', 'BDD']} \n",
      "\n",
      "{'_id': ObjectId('633b5086685a5cb1f0ca3f4f'), 'name': 'Ali', 'login': 'ali89', 'age': 29, 'address': {'street': '12 gambitta', 'city': 'sba'}, 'job': ['web', 'BDD']} \n",
      "\n",
      "{'_id': ObjectId('63429831ebee9cf2afc26a9e'), 'name': 'Ali', 'login': 'ali89', 'age': 29, 'address': {'street': '12 gambitta', 'city': 'sba'}, 'job': ['web', 'BDD']} \n",
      "\n",
      "{'_id': ObjectId('6342985635b9ef87bbd3cb5f'), 'name': 'Ali', 'login': 'ali89', 'age': 29, 'address': {'street': '12 gambitta', 'city': 'sba'}, 'job': ['web', 'BDD']} \n",
      "\n"
     ]
    }
   ],
   "source": [
    "for user in db[\"users\"].find( { 'job' : ['web', 'BDD']} ):  #recherche exacte\n",
    "  print(user,'\\n')"
   ]
  },
  {
   "cell_type": "markdown",
   "metadata": {},
   "source": [
    "### SORT,  DISTINCT, COUNT"
   ]
  },
  {
   "cell_type": "code",
   "execution_count": 22,
   "metadata": {},
   "outputs": [
    {
     "name": "stdout",
     "output_type": "stream",
     "text": [
      "{'_id': ObjectId('633b4d65685a5cb1f0ca3f46'), 'name': 'Ahmed', 'login': 'Ahmed77f', 'age': 18, 'address': {'street': '10 maconi', 'city': 'sba'}, 'job': []} \n",
      "\n",
      "{'_id': ObjectId('633b4f19685a5cb1f0ca3f4b'), 'name': 'Ahmed', 'login': 'Ahmed77f', 'age': 18, 'address': {'street': '10 maconi', 'city': 'sba'}, 'job': []} \n",
      "\n",
      "{'_id': ObjectId('6342984bebee9cf2afc26a9f'), 'name': 'Ahmed', 'login': 'Ahmed77f', 'age': 28, 'address': {'street': '10 maconi', 'city': 'sba'}, 'job': ['web', 'PHP']} \n",
      "\n",
      "{'_id': ObjectId('6342985635b9ef87bbd3cb60'), 'name': 'Ahmed', 'login': 'Ahmed77f', 'age': 28, 'address': {'street': '10 maconi', 'city': 'sba'}, 'job': ['web', 'PHP']} \n",
      "\n",
      "{'_id': ObjectId('633b4d64685a5cb1f0ca3f45'), 'name': 'Ali', 'login': 'ali89', 'age': 32, 'address': {'street': '12 gambitta', 'city': 'sba'}, 'job': ['web', 'BDD']} \n",
      "\n",
      "{'_id': ObjectId('633b4f19685a5cb1f0ca3f4a'), 'name': 'Ali', 'login': 'ali89', 'age': 29, 'address': {'street': '12 gambitta', 'city': 'sba'}, 'job': ['web', 'BDD']} \n",
      "\n",
      "{'_id': ObjectId('633b5086685a5cb1f0ca3f4f'), 'name': 'Ali', 'login': 'ali89', 'age': 29, 'address': {'street': '12 gambitta', 'city': 'sba'}, 'job': ['web', 'BDD']} \n",
      "\n",
      "{'_id': ObjectId('63429831ebee9cf2afc26a9e'), 'name': 'Ali', 'login': 'ali89', 'age': 29, 'address': {'street': '12 gambitta', 'city': 'sba'}, 'job': ['web', 'BDD']} \n",
      "\n",
      "{'_id': ObjectId('6342985635b9ef87bbd3cb5f'), 'name': 'Ali', 'login': 'ali89', 'age': 29, 'address': {'street': '12 gambitta', 'city': 'sba'}, 'job': ['web', 'BDD']} \n",
      "\n",
      "{'_id': ObjectId('633b4d65685a5cb1f0ca3f48'), 'name': 'amine', 'login': 'amine77'} \n",
      "\n",
      "{'_id': ObjectId('633b4f19685a5cb1f0ca3f4d'), 'name': 'amine', 'login': 'amine77'} \n",
      "\n",
      "{'_id': ObjectId('6342984bebee9cf2afc26aa1'), 'name': 'amine', 'login': 'amine77', 'age': 18, 'job': []} \n",
      "\n",
      "{'_id': ObjectId('6342985635b9ef87bbd3cb62'), 'name': 'amine', 'login': 'amine77', 'age': 18, 'job': []} \n",
      "\n",
      "{'_id': ObjectId('633b4d65685a5cb1f0ca3f47'), 'name': 'said', 'login': 'saidyy', 'age': 25, 'address': {'city': 'oran'}, 'job': ['web', 'JAVA', 'PHP']} \n",
      "\n",
      "{'_id': ObjectId('633b4f19685a5cb1f0ca3f4c'), 'name': 'said', 'login': 'saidyy', 'age': 25, 'address': {'city': 'oran'}, 'job': ['web', 'JAVA', 'PHP']} \n",
      "\n",
      "{'_id': ObjectId('6342984bebee9cf2afc26aa0'), 'name': 'said', 'login': 'saidyy', 'age': 25, 'address': {'city': 'oran'}, 'job': ['web', 'JAVA', 'PHP']} \n",
      "\n",
      "{'_id': ObjectId('6342984bebee9cf2afc26aa2'), 'name': 'said', 'login': 'ss.ki', 'age': 23, 'address': {'city': 'sba'}, 'job': ['python', 'JAVA', 'PHP']} \n",
      "\n",
      "{'_id': ObjectId('6342985635b9ef87bbd3cb61'), 'name': 'said', 'login': 'saidyy', 'age': 25, 'address': {'city': 'oran'}, 'job': ['web', 'JAVA', 'PHP']} \n",
      "\n",
      "{'_id': ObjectId('6342985635b9ef87bbd3cb63'), 'name': 'said', 'login': 'ss.ki', 'age': 23, 'address': {'city': 'sba'}, 'job': ['python', 'JAVA', 'PHP']} \n",
      "\n"
     ]
    }
   ],
   "source": [
    "for user in db[\"users\"].find().sort(\"name\"):\n",
    "    print(user,'\\n')"
   ]
  },
  {
   "cell_type": "code",
   "execution_count": 23,
   "metadata": {},
   "outputs": [
    {
     "name": "stdout",
     "output_type": "stream",
     "text": [
      "oran \n",
      "\n",
      "sba \n",
      "\n"
     ]
    }
   ],
   "source": [
    "for user in db[\"users\"].distinct( 'address.city'):\n",
    "    print(user,'\\n')"
   ]
  },
  {
   "cell_type": "code",
   "execution_count": 24,
   "metadata": {},
   "outputs": [
    {
     "name": "stdout",
     "output_type": "stream",
     "text": [
      "# docs in Users collection = 19 \n",
      "\n",
      "# user whose age is 18= 4\n"
     ]
    }
   ],
   "source": [
    "print('# docs in Users collection =',db[\"users\"].count_documents({}),'\\n')\n",
    "\n",
    "print('# user whose age is 18=',db[\"users\"].count_documents({ 'age' : 18 }))\n",
    "   "
   ]
  },
  {
   "cell_type": "markdown",
   "metadata": {},
   "source": [
    "### Pipeline: aggregate"
   ]
  },
  {
   "cell_type": "code",
   "execution_count": 25,
   "metadata": {},
   "outputs": [
    {
     "name": "stdout",
     "output_type": "stream",
     "text": [
      "{'_id': ObjectId('633b4d65685a5cb1f0ca3f46'), 'login': 'Ahmed77f', 'age': 18} \n",
      "\n",
      "{'_id': ObjectId('633b4f19685a5cb1f0ca3f4b'), 'login': 'Ahmed77f', 'age': 18} \n",
      "\n",
      "{'_id': ObjectId('6342984bebee9cf2afc26aa2'), 'login': 'ss.ki', 'age': 23} \n",
      "\n",
      "{'_id': ObjectId('6342985635b9ef87bbd3cb63'), 'login': 'ss.ki', 'age': 23} \n",
      "\n",
      "{'_id': ObjectId('6342984bebee9cf2afc26a9f'), 'login': 'Ahmed77f', 'age': 28} \n",
      "\n",
      "{'_id': ObjectId('6342985635b9ef87bbd3cb60'), 'login': 'Ahmed77f', 'age': 28} \n",
      "\n",
      "{'_id': ObjectId('633b4f19685a5cb1f0ca3f4a'), 'login': 'ali89', 'age': 29} \n",
      "\n",
      "{'_id': ObjectId('633b5086685a5cb1f0ca3f4f'), 'login': 'ali89', 'age': 29} \n",
      "\n",
      "{'_id': ObjectId('63429831ebee9cf2afc26a9e'), 'login': 'ali89', 'age': 29} \n",
      "\n",
      "{'_id': ObjectId('6342985635b9ef87bbd3cb5f'), 'login': 'ali89', 'age': 29} \n",
      "\n",
      "{'_id': ObjectId('633b4d64685a5cb1f0ca3f45'), 'login': 'ali89', 'age': 32} \n",
      "\n"
     ]
    }
   ],
   "source": [
    "result=db[\"users\"].aggregate([  \n",
    "                              {'$match' : {\"address.city\" : 'sba'}},\n",
    "                              {'$project' : {\"login\" : 1, \"age\" : 1}}, \n",
    "                              {'$sort' : {\"age\" : 1, \"login\" : -1}}\n",
    "                             ]);\n",
    "\n",
    "for user in result:\n",
    "    print(user,'\\n')"
   ]
  },
  {
   "cell_type": "markdown",
   "metadata": {},
   "source": [
    "### Pipeline: \\\\$Unwind"
   ]
  },
  {
   "cell_type": "code",
   "execution_count": 26,
   "metadata": {},
   "outputs": [
    {
     "name": "stdout",
     "output_type": "stream",
     "text": [
      "{'_id': ObjectId('633b4d64685a5cb1f0ca3f45'), 'name': 'Ali', 'login': 'ali89', 'age': 32, 'address': {'street': '12 gambitta', 'city': 'sba'}, 'job': 'web'} \n",
      "\n",
      "{'_id': ObjectId('633b4d64685a5cb1f0ca3f45'), 'name': 'Ali', 'login': 'ali89', 'age': 32, 'address': {'street': '12 gambitta', 'city': 'sba'}, 'job': 'BDD'} \n",
      "\n",
      "{'_id': ObjectId('633b4d65685a5cb1f0ca3f47'), 'name': 'said', 'login': 'saidyy', 'age': 25, 'address': {'city': 'oran'}, 'job': 'web'} \n",
      "\n",
      "{'_id': ObjectId('633b4d65685a5cb1f0ca3f47'), 'name': 'said', 'login': 'saidyy', 'age': 25, 'address': {'city': 'oran'}, 'job': 'JAVA'} \n",
      "\n",
      "{'_id': ObjectId('633b4d65685a5cb1f0ca3f47'), 'name': 'said', 'login': 'saidyy', 'age': 25, 'address': {'city': 'oran'}, 'job': 'PHP'} \n",
      "\n",
      "{'_id': ObjectId('633b4f19685a5cb1f0ca3f4a'), 'name': 'Ali', 'login': 'ali89', 'age': 29, 'address': {'street': '12 gambitta', 'city': 'sba'}, 'job': 'web'} \n",
      "\n",
      "{'_id': ObjectId('633b4f19685a5cb1f0ca3f4a'), 'name': 'Ali', 'login': 'ali89', 'age': 29, 'address': {'street': '12 gambitta', 'city': 'sba'}, 'job': 'BDD'} \n",
      "\n",
      "{'_id': ObjectId('633b4f19685a5cb1f0ca3f4c'), 'name': 'said', 'login': 'saidyy', 'age': 25, 'address': {'city': 'oran'}, 'job': 'web'} \n",
      "\n",
      "{'_id': ObjectId('633b4f19685a5cb1f0ca3f4c'), 'name': 'said', 'login': 'saidyy', 'age': 25, 'address': {'city': 'oran'}, 'job': 'JAVA'} \n",
      "\n",
      "{'_id': ObjectId('633b4f19685a5cb1f0ca3f4c'), 'name': 'said', 'login': 'saidyy', 'age': 25, 'address': {'city': 'oran'}, 'job': 'PHP'} \n",
      "\n",
      "{'_id': ObjectId('633b5086685a5cb1f0ca3f4f'), 'name': 'Ali', 'login': 'ali89', 'age': 29, 'address': {'street': '12 gambitta', 'city': 'sba'}, 'job': 'web'} \n",
      "\n",
      "{'_id': ObjectId('633b5086685a5cb1f0ca3f4f'), 'name': 'Ali', 'login': 'ali89', 'age': 29, 'address': {'street': '12 gambitta', 'city': 'sba'}, 'job': 'BDD'} \n",
      "\n",
      "{'_id': ObjectId('63429831ebee9cf2afc26a9e'), 'name': 'Ali', 'login': 'ali89', 'age': 29, 'address': {'street': '12 gambitta', 'city': 'sba'}, 'job': 'web'} \n",
      "\n",
      "{'_id': ObjectId('63429831ebee9cf2afc26a9e'), 'name': 'Ali', 'login': 'ali89', 'age': 29, 'address': {'street': '12 gambitta', 'city': 'sba'}, 'job': 'BDD'} \n",
      "\n",
      "{'_id': ObjectId('6342984bebee9cf2afc26a9f'), 'name': 'Ahmed', 'login': 'Ahmed77f', 'age': 28, 'address': {'street': '10 maconi', 'city': 'sba'}, 'job': 'web'} \n",
      "\n",
      "{'_id': ObjectId('6342984bebee9cf2afc26a9f'), 'name': 'Ahmed', 'login': 'Ahmed77f', 'age': 28, 'address': {'street': '10 maconi', 'city': 'sba'}, 'job': 'PHP'} \n",
      "\n",
      "{'_id': ObjectId('6342984bebee9cf2afc26aa0'), 'name': 'said', 'login': 'saidyy', 'age': 25, 'address': {'city': 'oran'}, 'job': 'web'} \n",
      "\n",
      "{'_id': ObjectId('6342984bebee9cf2afc26aa0'), 'name': 'said', 'login': 'saidyy', 'age': 25, 'address': {'city': 'oran'}, 'job': 'JAVA'} \n",
      "\n",
      "{'_id': ObjectId('6342984bebee9cf2afc26aa0'), 'name': 'said', 'login': 'saidyy', 'age': 25, 'address': {'city': 'oran'}, 'job': 'PHP'} \n",
      "\n",
      "{'_id': ObjectId('6342984bebee9cf2afc26aa2'), 'name': 'said', 'login': 'ss.ki', 'age': 23, 'address': {'city': 'sba'}, 'job': 'python'} \n",
      "\n",
      "{'_id': ObjectId('6342984bebee9cf2afc26aa2'), 'name': 'said', 'login': 'ss.ki', 'age': 23, 'address': {'city': 'sba'}, 'job': 'JAVA'} \n",
      "\n",
      "{'_id': ObjectId('6342984bebee9cf2afc26aa2'), 'name': 'said', 'login': 'ss.ki', 'age': 23, 'address': {'city': 'sba'}, 'job': 'PHP'} \n",
      "\n",
      "{'_id': ObjectId('6342985635b9ef87bbd3cb5f'), 'name': 'Ali', 'login': 'ali89', 'age': 29, 'address': {'street': '12 gambitta', 'city': 'sba'}, 'job': 'web'} \n",
      "\n",
      "{'_id': ObjectId('6342985635b9ef87bbd3cb5f'), 'name': 'Ali', 'login': 'ali89', 'age': 29, 'address': {'street': '12 gambitta', 'city': 'sba'}, 'job': 'BDD'} \n",
      "\n",
      "{'_id': ObjectId('6342985635b9ef87bbd3cb60'), 'name': 'Ahmed', 'login': 'Ahmed77f', 'age': 28, 'address': {'street': '10 maconi', 'city': 'sba'}, 'job': 'web'} \n",
      "\n",
      "{'_id': ObjectId('6342985635b9ef87bbd3cb60'), 'name': 'Ahmed', 'login': 'Ahmed77f', 'age': 28, 'address': {'street': '10 maconi', 'city': 'sba'}, 'job': 'PHP'} \n",
      "\n",
      "{'_id': ObjectId('6342985635b9ef87bbd3cb61'), 'name': 'said', 'login': 'saidyy', 'age': 25, 'address': {'city': 'oran'}, 'job': 'web'} \n",
      "\n",
      "{'_id': ObjectId('6342985635b9ef87bbd3cb61'), 'name': 'said', 'login': 'saidyy', 'age': 25, 'address': {'city': 'oran'}, 'job': 'JAVA'} \n",
      "\n",
      "{'_id': ObjectId('6342985635b9ef87bbd3cb61'), 'name': 'said', 'login': 'saidyy', 'age': 25, 'address': {'city': 'oran'}, 'job': 'PHP'} \n",
      "\n",
      "{'_id': ObjectId('6342985635b9ef87bbd3cb63'), 'name': 'said', 'login': 'ss.ki', 'age': 23, 'address': {'city': 'sba'}, 'job': 'python'} \n",
      "\n",
      "{'_id': ObjectId('6342985635b9ef87bbd3cb63'), 'name': 'said', 'login': 'ss.ki', 'age': 23, 'address': {'city': 'sba'}, 'job': 'JAVA'} \n",
      "\n",
      "{'_id': ObjectId('6342985635b9ef87bbd3cb63'), 'name': 'said', 'login': 'ss.ki', 'age': 23, 'address': {'city': 'sba'}, 'job': 'PHP'} \n",
      "\n"
     ]
    }
   ],
   "source": [
    "result=db[\"users\"].aggregate([  \n",
    "                              {'$unwind' : \"$job\"}\n",
    "                            ]);\n",
    "\n",
    "for user in result:\n",
    "    print(user,'\\n')"
   ]
  },
  {
   "cell_type": "markdown",
   "metadata": {},
   "source": [
    "### Pipeline: \\\\$GROUP"
   ]
  },
  {
   "cell_type": "code",
   "execution_count": 27,
   "metadata": {},
   "outputs": [
    {
     "name": "stdout",
     "output_type": "stream",
     "text": [
      "{'_id': 28, 'res': 2} \n",
      "\n",
      "{'_id': None, 'res': 2} \n",
      "\n",
      "{'_id': 18, 'res': 4} \n",
      "\n",
      "{'_id': 29, 'res': 4} \n",
      "\n",
      "{'_id': 32, 'res': 1} \n",
      "\n",
      "{'_id': 23, 'res': 2} \n",
      "\n",
      "{'_id': 25, 'res': 4} \n",
      "\n"
     ]
    }
   ],
   "source": [
    "result=db[\"users\"].aggregate([  \n",
    "                              {'$group':{\"_id\" : \"$age\", \"res\": {'$sum' : 1}}}\n",
    "\n",
    "                            ]);\n",
    "\n",
    "for user in result:\n",
    "    print(user,'\\n')"
   ]
  },
  {
   "cell_type": "code",
   "execution_count": 28,
   "metadata": {},
   "outputs": [
    {
     "name": "stdout",
     "output_type": "stream",
     "text": [
      "{'_id': 'BDD', 'moy': 29.6} \n",
      "\n",
      "{'_id': 'web', 'moy': 29.142857142857142} \n",
      "\n",
      "{'_id': 'PHP', 'moy': 25.5} \n",
      "\n",
      "{'_id': 'python', 'moy': 23.0} \n",
      "\n",
      "{'_id': 'JAVA', 'moy': 23.0} \n",
      "\n"
     ]
    }
   ],
   "source": [
    "result=db[\"users\"].aggregate([  \n",
    "                              {'$match': {\"address.city\" : \"sba\"}},\n",
    "                              {'$unwind' : \"$job\"},\n",
    "                              {'$group' : {\"_id\" : \"$job\", \"moy\": {'$avg': \"$age\"}} },\n",
    "                              {'$match' : {\"moy\" : {'$gt' : 10}} },\n",
    "                              {'$sort' : { \"moy\" : -1} } \n",
    "\n",
    "                            ]);\n",
    "\n",
    "for user in result:\n",
    "    print(user,'\\n')"
   ]
  },
  {
   "cell_type": "markdown",
   "metadata": {},
   "source": [
    "#### Vider une collection"
   ]
  },
  {
   "cell_type": "code",
   "execution_count": 29,
   "metadata": {},
   "outputs": [],
   "source": [
    "db[\"users\"].drop()"
   ]
  }
 ],
 "metadata": {
  "kernelspec": {
   "display_name": "Python 3 (ipykernel)",
   "language": "python",
   "name": "python3"
  },
  "language_info": {
   "codemirror_mode": {
    "name": "ipython",
    "version": 3
   },
   "file_extension": ".py",
   "mimetype": "text/x-python",
   "name": "python",
   "nbconvert_exporter": "python",
   "pygments_lexer": "ipython3",
   "version": "3.7.4"
  }
 },
 "nbformat": 4,
 "nbformat_minor": 2
}
